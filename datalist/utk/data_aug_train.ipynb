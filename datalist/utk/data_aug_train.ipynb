{
  "cells": [
    {
      "cell_type": "code",
      "execution_count": 94,
      "metadata": {
        "id": "I_17XZeQC1Pq"
      },
      "outputs": [],
      "source": [
        "import numpy as np\n",
        "import pandas as pd\n",
        "import os\n",
        "import matplotlib.pyplot as plt\n",
        "# import seaborn as sns\n",
        "from tqdm.notebook import tqdm\n",
        "import warnings\n",
        "# warnings.filterwarnings('ignore')\n",
        "# %matplotlib inline\n",
        "\n",
        "import cv2\n",
        "import csv\n",
        "# import tensorflow as tf\n",
        "# from keras.preprocessing.image import load_img\n",
        "# from keras.models import Sequential, Model\n",
        "# from keras.layers import Dense, Conv2D, Dropout, Flatten, MaxPooling2D, Input"
      ]
    },
    {
      "cell_type": "code",
      "execution_count": 95,
      "metadata": {
        "id": "YyXWMhctDvKJ"
      },
      "outputs": [],
      "source": [
        "# X = np.load('/content/drive/My Drive/Comp Vis Final Proj/alexis_vers/X.npy')"
      ]
    },
    {
      "cell_type": "code",
      "execution_count": 96,
      "metadata": {
        "id": "e1NAo9ljDOuk"
      },
      "outputs": [],
      "source": [
        "gender_dict = {0:'Male', 1:'Female'}\n",
        "race_dict = {0:'White', 1:'Black', 2:'Asian', 3:'Indian', 4:'Other'}"
      ]
    },
    {
      "cell_type": "code",
      "execution_count": 97,
      "metadata": {
        "id": "WXzVDNWNDVLS"
      },
      "outputs": [],
      "source": [
        "# data = \"/content/drive/My Drive/Comp Vis Final Proj/UTKFace\""
      ]
    },
    {
      "cell_type": "code",
      "execution_count": 98,
      "metadata": {
        "colab": {
          "base_uri": "https://localhost:8080/",
          "height": 84,
          "referenced_widgets": [
            "247e5be7005a4f6981d69c6ee865b948",
            "94833b066ba44b5fbfd9a554d3a2de9e",
            "9af04bd9889b497799e6d0480e5e9040",
            "05c678d5ad694a83a39a45b3aac9cb04",
            "fdf642133c74498abf4945c511759c42",
            "de27b81d2a464edc80b8e6eec8384e89",
            "c116ceaae6f64200b4efdfd7021c370a",
            "6dffa1e129a549ea878b271e3a0d4472",
            "27b8bd710d184b438f44a2b68a906d20",
            "e33a76917cf647f4934b13548ae8c424",
            "1cedc46255fa49199362e0b9defbb68e"
          ]
        },
        "id": "UxQY3jI0DXsJ",
        "outputId": "4dfc1c9e-ed4f-4654-d178-2452b01216fa"
      },
      "outputs": [
        {
          "name": "stdout",
          "output_type": "stream",
          "text": [
            "Skipping file: ['', 'filename', 'age', 'database']\n",
            "Skipping file: ['', 'filename', 'age', 'database']\n"
          ]
        }
      ],
      "source": [
        "rows = []\n",
        "# image_paths = []\n",
        "age_labels = []\n",
        "gender_labels = []\n",
        "race_labels = []\n",
        "\n",
        "filename = 'UTK_train_coral_og.csv'\n",
        "\n",
        "with open(filename, 'r') as csvfile:\n",
        "    datareader = csv.reader(csvfile)\n",
        "    for row in datareader:\n",
        "        try:\n",
        "            temp = row[1].split('_')\n",
        "            age = int(temp[0])\n",
        "            gender = int(temp[1])\n",
        "            race = int(temp[2])\n",
        "        except ValueError:\n",
        "            print(\"Skipping file:\", row)\n",
        "            continue\n",
        "        # image_paths.append(image_path)\n",
        "        rows.append(row)\n",
        "        age_labels.append(age)\n",
        "        gender_labels.append(gender)\n",
        "        race_labels.append(race)\n",
        "        \n",
        "filename = 'UTK_test_coral_og.csv'\n",
        "\n",
        "with open(filename, 'r') as csvfile:\n",
        "    datareader = csv.reader(csvfile)\n",
        "    for row in datareader:\n",
        "        try:\n",
        "            temp = row[1].split('_')\n",
        "            age = int(temp[0])\n",
        "            gender = int(temp[1])\n",
        "            race = int(temp[2])\n",
        "        except ValueError:\n",
        "            print(\"Skipping file:\", row)\n",
        "            continue\n",
        "        # image_paths.append(image_path)\n",
        "        rows.append(row)\n",
        "        age_labels.append(age)\n",
        "        gender_labels.append(gender)\n",
        "        race_labels.append(race)"
      ]
    },
    {
      "cell_type": "code",
      "execution_count": 99,
      "metadata": {
        "colab": {
          "base_uri": "https://localhost:8080/",
          "height": 206
        },
        "id": "A3-CziFEDbr8",
        "outputId": "dd3ceb24-c7ff-4ee9-a74c-37c05807d932"
      },
      "outputs": [
        {
          "data": {
            "text/html": [
              "<div>\n",
              "<style scoped>\n",
              "    .dataframe tbody tr th:only-of-type {\n",
              "        vertical-align: middle;\n",
              "    }\n",
              "\n",
              "    .dataframe tbody tr th {\n",
              "        vertical-align: top;\n",
              "    }\n",
              "\n",
              "    .dataframe thead th {\n",
              "        text-align: right;\n",
              "    }\n",
              "</style>\n",
              "<table border=\"1\" class=\"dataframe\">\n",
              "  <thead>\n",
              "    <tr style=\"text-align: right;\">\n",
              "      <th></th>\n",
              "      <th>rows</th>\n",
              "      <th>age</th>\n",
              "      <th>gender</th>\n",
              "      <th>race</th>\n",
              "    </tr>\n",
              "  </thead>\n",
              "  <tbody>\n",
              "    <tr>\n",
              "      <th>0</th>\n",
              "      <td>[1, 36_0_1_20170117163203851.jpg, 36, utk]</td>\n",
              "      <td>36</td>\n",
              "      <td>0</td>\n",
              "      <td>1</td>\n",
              "    </tr>\n",
              "    <tr>\n",
              "      <th>1</th>\n",
              "      <td>[3, 26_1_0_20170116171048641.jpg, 26, utk]</td>\n",
              "      <td>26</td>\n",
              "      <td>1</td>\n",
              "      <td>0</td>\n",
              "    </tr>\n",
              "    <tr>\n",
              "      <th>2</th>\n",
              "      <td>[5, 52_0_1_20170117161018159.jpg, 52, utk]</td>\n",
              "      <td>52</td>\n",
              "      <td>0</td>\n",
              "      <td>1</td>\n",
              "    </tr>\n",
              "    <tr>\n",
              "      <th>3</th>\n",
              "      <td>[6, 25_1_0_20170117134403373.jpg, 25, utk]</td>\n",
              "      <td>25</td>\n",
              "      <td>1</td>\n",
              "      <td>0</td>\n",
              "    </tr>\n",
              "    <tr>\n",
              "      <th>4</th>\n",
              "      <td>[8, 27_0_3_20170119210058457.jpg, 27, utk]</td>\n",
              "      <td>27</td>\n",
              "      <td>0</td>\n",
              "      <td>3</td>\n",
              "    </tr>\n",
              "  </tbody>\n",
              "</table>\n",
              "</div>"
            ],
            "text/plain": [
              "                                         rows  age  gender  race\n",
              "0  [1, 36_0_1_20170117163203851.jpg, 36, utk]   36       0     1\n",
              "1  [3, 26_1_0_20170116171048641.jpg, 26, utk]   26       1     0\n",
              "2  [5, 52_0_1_20170117161018159.jpg, 52, utk]   52       0     1\n",
              "3  [6, 25_1_0_20170117134403373.jpg, 25, utk]   25       1     0\n",
              "4  [8, 27_0_3_20170119210058457.jpg, 27, utk]   27       0     3"
            ]
          },
          "execution_count": 99,
          "metadata": {},
          "output_type": "execute_result"
        }
      ],
      "source": [
        "df = pd.DataFrame()\n",
        "df['rows'], df['age'], df['gender'], df['race'] = rows, age_labels, gender_labels, race_labels\n",
        "df.head()"
      ]
    },
    {
      "cell_type": "code",
      "execution_count": 100,
      "metadata": {
        "id": "OqdX8eQSDmv6"
      },
      "outputs": [],
      "source": [
        "y_rows = np.array(df['rows'])\n",
        "y_gender = np.array(df['gender'])\n",
        "y_age = np.array(df['age'])\n",
        "y_race = np.array(df['race'])"
      ]
    },
    {
      "cell_type": "code",
      "execution_count": 101,
      "metadata": {
        "colab": {
          "base_uri": "https://localhost:8080/",
          "height": 458
        },
        "id": "ydeMnGDWDHvu",
        "outputId": "ab64c788-3d7c-4215-ec10-faa53ef1e027"
      },
      "outputs": [],
      "source": [
        "# image_index = 103\n",
        "# print(\"Original Gender:\", gender_dict[y_gender[image_index]], \"Original Age:\", y_age[image_index])\n",
        "# # predict from model\n",
        "# pred = model.predict(X[image_index].reshape(1, 128, 128, 1))\n",
        "# pred_gender = gender_dict[round(pred[0][0][0])]\n",
        "# pred_age = round(pred[1][0][0])\n",
        "# print(\"Predicted Gender:\", pred_gender, \"Predicted Age:\", pred_age)\n",
        "# plt.axis('off')\n",
        "# plt.imshow(X[image_index].reshape(128, 128), cmap='gray');"
      ]
    },
    {
      "cell_type": "code",
      "execution_count": 102,
      "metadata": {},
      "outputs": [],
      "source": [
        "X = np.load('X.npy')"
      ]
    },
    {
      "cell_type": "code",
      "execution_count": 103,
      "metadata": {
        "colab": {
          "base_uri": "https://localhost:8080/",
          "height": 1000
        },
        "id": "91kxmuZ4D1eK",
        "outputId": "808f9c59-87c8-46ad-be63-5a71d5c0ad64"
      },
      "outputs": [
        {
          "name": "stdout",
          "output_type": "stream",
          "text": [
            "7526\n",
            "7526\n",
            "Race: White\n"
          ]
        },
        {
          "data": {
            "image/png": "[encoded data removed]",
            "text/plain": [
              "<Figure size 640x480 with 1 Axes>"
            ]
          },
          "metadata": {},
          "output_type": "display_data"
        },
        {
          "name": "stdout",
          "output_type": "stream",
          "text": [
            "4594\n",
            "4594\n",
            "Race: Black\n"
          ]
        },
        {
          "data": {
            "image/png": "[encoded data removed]",
            "text/plain": [
              "<Figure size 640x480 with 1 Axes>"
            ]
          },
          "metadata": {},
          "output_type": "display_data"
        },
        {
          "name": "stdout",
          "output_type": "stream",
          "text": [
            "2553\n",
            "2553\n",
            "Race: Asian\n"
          ]
        },
        {
          "data": {
            "image/png": "[encoded data removed]",
            "text/plain": [
              "<Figure size 640x480 with 1 Axes>"
            ]
          },
          "metadata": {},
          "output_type": "display_data"
        },
        {
          "name": "stdout",
          "output_type": "stream",
          "text": [
            "3748\n",
            "3748\n",
            "Race: Indian\n"
          ]
        },
        {
          "data": {
            "image/png": "[encoded data removed]",
            "text/plain": [
              "<Figure size 640x480 with 1 Axes>"
            ]
          },
          "metadata": {},
          "output_type": "display_data"
        },
        {
          "name": "stdout",
          "output_type": "stream",
          "text": [
            "1298\n",
            "1298\n",
            "Race: Other\n"
          ]
        },
        {
          "data": {
            "image/png": "[encoded data removed]",
            "text/plain": [
              "<Figure size 640x480 with 1 Axes>"
            ]
          },
          "metadata": {},
          "output_type": "display_data"
        }
      ],
      "source": [
        "from sklearn.model_selection import train_test_split\n",
        "\n",
        "# Dictionary to store datasets for each race\n",
        "datasets_per_race = {}\n",
        "\n",
        "# Split the dataset based on race\n",
        "unique_races = np.unique(y_race)\n",
        "for race in race_dict:\n",
        "    race_indices = np.where(y_race == race)[0]\n",
        "    # X_race = X[race_indices]\n",
        "    y_row = y_rows[race_indices]\n",
        "    y_age_race = y_age[race_indices]\n",
        "    y_gender_race = y_gender[race_indices]\n",
        "    # print(len(X_race))\n",
        "    print(len(y_age_race))\n",
        "    print(len(y_gender_race))\n",
        "    # Split the race dataset into train and test sets\n",
        "    # X_train, X_test, y_train, y_test = train_test_split(X_race, y_age_race, test_size=0.2, random_state=42)\n",
        "\n",
        "    print(f\"Race: {race_dict[race]}\")\n",
        "    # print(f\"Number of samples: {len(X_race)}\")\n",
        "\n",
        "    # Plot the age distribution for each race\n",
        "    plt.figure()\n",
        "    plt.hist(y_age_race, bins=20, edgecolor='black')\n",
        "    plt.title(f\"Age Distribution for {race_dict[race]}\")\n",
        "    plt.xlabel(\"Age\")\n",
        "    plt.ylabel(\"Frequency\")\n",
        "    plt.show()\n",
        "\n",
        "\n",
        "    datasets_per_race[race_dict[race]] = {'row': y_row, 'y': y_age_race, 'gender': y_gender_race}\n"
      ]
    },
    {
      "cell_type": "markdown",
      "metadata": {
        "id": "ADoSbxmjWu27"
      },
      "source": [
        "## current experiments"
      ]
    },
    {
      "cell_type": "code",
      "execution_count": 104,
      "metadata": {
        "colab": {
          "base_uri": "https://localhost:8080/",
          "height": 1000
        },
        "id": "BCgLxu3aM0P0",
        "outputId": "b576154d-0a9f-4541-c8bd-edc63a9102ea"
      },
      "outputs": [
        {
          "name": "stdout",
          "output_type": "stream",
          "text": [
            "                                          rows  age  gender  race\n",
            "0   [3, 26_1_0_20170116171048641.jpg, 26, utk]   26       1     0\n",
            "1   [6, 25_1_0_20170117134403373.jpg, 25, utk]   25       1     0\n",
            "2  [16, 53_1_0_20170110143534851.jpg, 53, utk]   53       1     0\n",
            "3  [18, 23_1_0_20170117142807780.jpg, 23, utk]   23       1     0\n",
            "4  [23, 23_1_0_20170116222839270.jpg, 23, utk]   23       1     0\n"
          ]
        }
      ],
      "source": [
        "import numpy as np\n",
        "import pandas as pd\n",
        "import matplotlib.pyplot as plt\n",
        "from sklearn.utils import resample\n",
        "\n",
        "# Define race labels mapping\n",
        "race_mapping = {'White': 0, 'Black': 1, 'Asian': 2, 'Indian': 3, 'Other': 4}\n",
        "\n",
        "# Initialize lists to store combined data\n",
        "# image_paths = []\n",
        "rows = []\n",
        "age_labels = []\n",
        "gender_labels = []\n",
        "race_labels = []\n",
        "\n",
        "# Calculate histogram of age distribution for the white group\n",
        "white_age_hist, white_age_bins = np.histogram(datasets_per_race['White']['y'], bins=20)\n",
        "\n",
        "# Balancing datasets for each race\n",
        "for race, data in datasets_per_race.items():\n",
        "    if race != 'White':\n",
        "        race_data = data['y']\n",
        "        # Calculate histogram of age distribution for the current race\n",
        "        race_age_hist, race_age_bins = np.histogram(race_data, bins=20)\n",
        "        # Resample the race data to match the age distribution of the white group\n",
        "        resampled_race_data = []\n",
        "        for i, count in enumerate(white_age_hist):\n",
        "            if count == 0:\n",
        "                continue\n",
        "            age_range_indices = np.where((race_data >= white_age_bins[i]) & (race_data < white_age_bins[i + 1]))[0]\n",
        "            # Check if age_range_indices is empty\n",
        "            if len(age_range_indices) == 0:\n",
        "                continue\n",
        "            resampled_age_range_indices = np.random.choice(age_range_indices, size=count, replace=True)\n",
        "            resampled_race_data.extend(race_data[resampled_age_range_indices])\n",
        "            # print(resampled_age_range_indices)\n",
        "            # Sample corresponding images\n",
        "            resampled_rows = data['row'][resampled_age_range_indices]\n",
        "            rows.extend(resampled_rows)\n",
        "            # Sample corresponding genders\n",
        "            resampled_genders = data['gender'][resampled_age_range_indices]\n",
        "            gender_labels.extend(resampled_genders)\n",
        "            # Sample corresponding ages\n",
        "            resampled_ages = data['y'][resampled_age_range_indices]\n",
        "            age_labels.extend(resampled_ages)\n",
        "            # Sample corresponding race labels\n",
        "            resampled_races = [race_mapping[race]] * count\n",
        "            race_labels.extend(resampled_races)\n",
        "\n",
        "    else:\n",
        "        race_data = data['y']\n",
        "        resampled_race_data = []\n",
        "        resampled_race_data.extend(race_data)\n",
        "\n",
        "        rows.extend(data['row'])\n",
        "        gender_labels.extend(data['gender'])\n",
        "        age_labels.extend(data['y'])\n",
        "        race_labels.extend([race_mapping['White']] * len(data['y']))\n",
        "\n",
        "    # Plot the balanced age distribution\n",
        "    # plt.figure()\n",
        "    # plt.hist(resampled_race_data, bins=20, edgecolor='black')\n",
        "    # plt.title(f\"Balanced Age Distribution for {race}\")\n",
        "    # plt.xlabel(\"Age\")\n",
        "    # plt.ylabel(\"Frequency\")\n",
        "    # plt.show()\n",
        "\n",
        "# Convert lists to NumPy arrays\n",
        "# rows = np.array(rows, dtype=object)\n",
        "age_labels = np.array(age_labels)\n",
        "gender_labels = np.array(gender_labels)\n",
        "race_labels = np.array(race_labels)\n",
        "\n",
        "# Create DataFrame\n",
        "df_balanced = pd.DataFrame()\n",
        "# print (image_paths.shape)\n",
        "df_balanced['rows'] = rows\n",
        "df_balanced['age'] = age_labels\n",
        "df_balanced['gender'] = gender_labels\n",
        "df_balanced['race'] = race_labels\n",
        "\n",
        "# Display the first few rows of the DataFrame\n",
        "print(df_balanced.head())\n"
      ]
    },
    {
      "cell_type": "code",
      "execution_count": 109,
      "metadata": {
        "id": "HIlpIjF0Nf0h"
      },
      "outputs": [],
      "source": [
        "expanded_df = pd.DataFrame(df_balanced['rows'].tolist(), columns=['', 'filename', 'age', 'database'])\n",
        "\n",
        "train_expanded_df = expanded_df.iloc[::2]\n",
        "test_expanded_df = expanded_df.iloc[1::2]\n",
        "\n",
        "# # Save the new DataFrame to a CSV file\n",
        "train_expanded_df.to_csv('UTK_train_coral.csv', index=False)\n",
        "test_expanded_df.to_csv('UTK_test_coral.csv', index=False)"
      ]
    },
    {
      "cell_type": "code",
      "execution_count": null,
      "metadata": {
        "id": "BBm0vy5-ZHcz"
      },
      "outputs": [],
      "source": [
        "np.save('/content/drive/My Drive/Comp Vis Final Proj/alexis_vers/X_balanced_withwhite.npy', image_paths)"
      ]
    },
    {
      "cell_type": "code",
      "execution_count": null,
      "metadata": {
        "id": "pRP0bCjgNsWL"
      },
      "outputs": [],
      "source": [
        "y_gender_balanced = np.array(df_balanced['gender'])\n",
        "y_age_balanced = np.array(df_balanced['age'])\n",
        "y_race_balanced = np.array(df_balanced['race'])"
      ]
    },
    {
      "cell_type": "code",
      "execution_count": null,
      "metadata": {
        "id": "h9nCNWJ3N5I3"
      },
      "outputs": [],
      "source": [
        "input_shape = (128,128,1)"
      ]
    },
    {
      "cell_type": "code",
      "execution_count": null,
      "metadata": {
        "id": "f5060Bf9OJXY"
      },
      "outputs": [],
      "source": [
        "inputs = Input((input_shape))\n",
        "\n",
        "conv_1 = Conv2D(32, kernel_size=(3,3), activation='relu')(inputs)\n",
        "maxp_1 = MaxPooling2D(pool_size=(2,2))(conv_1)\n",
        "\n",
        "conv_2 = Conv2D(32, kernel_size=(3,3), activation='relu')(maxp_1)\n",
        "maxp_2 = MaxPooling2D(pool_size=(2,2))(conv_2)\n",
        "\n",
        "conv_3 = Conv2D(32, kernel_size=(3,3), activation='relu')(maxp_2)\n",
        "maxp_3 = MaxPooling2D(pool_size=(2,2))(conv_3)\n",
        "\n",
        "conv_4 = Conv2D(32, kernel_size=(3,3), activation='relu')(maxp_3)\n",
        "maxp_4 = MaxPooling2D(pool_size=(2,2))(conv_4)\n",
        "\n",
        "flatten = Flatten()(maxp_4)\n",
        "\n",
        "# Fully connected layers\n",
        "dense_1 = Dense(256, activation = 'relu')(flatten)\n",
        "dense_2 = Dense(256, activation = 'relu')(flatten)\n",
        "# dense_3 = Dense(256, activation = 'relu')(flatten)\n",
        "\n",
        "dropout_1 = Dropout(0.3)(dense_1)\n",
        "dropout_2 = Dropout(0.3)(dense_2)\n",
        "# dropout_3 = Dropout(0.3)(dense_3)\n",
        "\n",
        "output_1 = Dense(1, activation = 'sigmoid', name = 'gender_out')(dropout_1)\n",
        "output_2 = Dense(1, activation = 'relu', name = 'age_out')(dropout_2)\n",
        "# output_3 = Dense(1, activation = 'relu', name = 'race_out')(dropout_3)\n",
        "\n",
        "# model = Model(inputs = [inputs], outputs = [output_1, output_2, output_3])\n",
        "model = Model(inputs = [inputs], outputs = [output_1, output_2])\n",
        "\n",
        "model.compile(loss = ['binary_crossentropy', 'mae'], optimizer = 'adam', metrics = ['accuracy','mae'])"
      ]
    },
    {
      "cell_type": "code",
      "execution_count": null,
      "metadata": {
        "colab": {
          "base_uri": "https://localhost:8080/"
        },
        "id": "nyOT32d6Os0I",
        "outputId": "67a06a40-9ab6-416c-d5c6-c62c68afe0a7"
      },
      "outputs": [
        {
          "name": "stdout",
          "output_type": "stream",
          "text": [
            "<class 'numpy.ndarray'>\n",
            "<class 'pandas.core.series.Series'>\n",
            "<class 'numpy.ndarray'>\n",
            "(9819, 128, 128, 1)\n",
            "(16709,)\n",
            "(16709,)\n",
            "[[[[0.4       ]\n",
            "   [0.54117647]\n",
            "   [0.60784314]\n",
            "   ...\n",
            "   [0.22745098]\n",
            "   [0.20784314]\n",
            "   [0.16470588]]\n",
            "\n",
            "  [[0.38823529]\n",
            "   [0.52941176]\n",
            "   [0.59607843]\n",
            "   ...\n",
            "   [0.23921569]\n",
            "   [0.21960784]\n",
            "   [0.17254902]]\n",
            "\n",
            "  [[0.36078431]\n",
            "   [0.48627451]\n",
            "   [0.56862745]\n",
            "   ...\n",
            "   [0.25882353]\n",
            "   [0.24313725]\n",
            "   [0.19607843]]\n",
            "\n",
            "  ...\n",
            "\n",
            "  [[0.98823529]\n",
            "   [0.98823529]\n",
            "   [0.98823529]\n",
            "   ...\n",
            "   [0.6627451 ]\n",
            "   [0.67843137]\n",
            "   [0.68627451]]\n",
            "\n",
            "  [[0.98823529]\n",
            "   [0.98823529]\n",
            "   [0.98823529]\n",
            "   ...\n",
            "   [0.66666667]\n",
            "   [0.68235294]\n",
            "   [0.68627451]]\n",
            "\n",
            "  [[0.98823529]\n",
            "   [0.98823529]\n",
            "   [0.98823529]\n",
            "   ...\n",
            "   [0.66666667]\n",
            "   [0.68627451]\n",
            "   [0.68627451]]]]\n",
            "[array([[[0.15294118],\n",
            "         [0.17647059],\n",
            "         [0.2       ],\n",
            "         ...,\n",
            "         [0.50980392],\n",
            "         [0.55294118],\n",
            "         [0.6627451 ]],\n",
            "\n",
            "        [[0.21568627],\n",
            "         [0.17647059],\n",
            "         [0.17647059],\n",
            "         ...,\n",
            "         [0.59607843],\n",
            "         [0.56078431],\n",
            "         [0.56862745]],\n",
            "\n",
            "        [[0.18039216],\n",
            "         [0.17647059],\n",
            "         [0.23529412],\n",
            "         ...,\n",
            "         [0.77647059],\n",
            "         [0.79607843],\n",
            "         [0.69803922]],\n",
            "\n",
            "        ...,\n",
            "\n",
            "        [[0.14509804],\n",
            "         [0.14509804],\n",
            "         [0.1372549 ],\n",
            "         ...,\n",
            "         [0.12156863],\n",
            "         [0.09411765],\n",
            "         [0.16470588]],\n",
            "\n",
            "        [[0.14901961],\n",
            "         [0.14117647],\n",
            "         [0.14509804],\n",
            "         ...,\n",
            "         [0.11764706],\n",
            "         [0.07843137],\n",
            "         [0.07843137]],\n",
            "\n",
            "        [[0.14901961],\n",
            "         [0.14509804],\n",
            "         [0.17254902],\n",
            "         ...,\n",
            "         [0.09411765],\n",
            "         [0.0745098 ],\n",
            "         [0.06666667]]])]\n"
          ]
        }
      ],
      "source": [
        "print(type(X))\n",
        "print(type(df_balanced['image']))\n",
        "X_balanced = df_balanced['image'].values\n",
        "print(type(X_balanced))\n",
        "print(X.shape)\n",
        "print(df_balanced['image'].shape)\n",
        "print(X_balanced.shape)\n",
        "# X_balanced = X_balanced.reshape(len(X_balanced), 128, 128, 1)\n",
        "# print(X_balanced.shape)\n",
        "print(X[:1])\n",
        "print(X_balanced[:1])\n"
      ]
    },
    {
      "cell_type": "code",
      "execution_count": null,
      "metadata": {
        "colab": {
          "base_uri": "https://localhost:8080/"
        },
        "id": "IIKB6qz0X3gN",
        "outputId": "bb542ca9-134d-45f7-8086-5253d4470980"
      },
      "outputs": [
        {
          "name": "stdout",
          "output_type": "stream",
          "text": [
            "<class 'numpy.ndarray'>\n"
          ]
        }
      ],
      "source": [
        "print(type(image_paths))"
      ]
    },
    {
      "cell_type": "code",
      "execution_count": null,
      "metadata": {
        "colab": {
          "base_uri": "https://localhost:8080/",
          "height": 480
        },
        "id": "QwddpuCWOYM8",
        "outputId": "dc9ed4ca-89c1-411a-fdff-c7a51aba4cfc"
      },
      "outputs": [
        {
          "name": "stdout",
          "output_type": "stream",
          "text": [
            "Epoch 1/30\n",
            "418/418 [==============================] - 269s 638ms/step - loss: 18.9833 - gender_out_loss: 0.6792 - age_out_loss: 18.3040 - gender_out_accuracy: 0.5855 - gender_out_mae: 0.4753 - age_out_accuracy: 0.0394 - age_out_mae: 18.3040 - val_loss: 17.6228 - val_gender_out_loss: 0.5776 - val_age_out_loss: 17.0453 - val_gender_out_accuracy: 0.7319 - val_gender_out_mae: 0.4263 - val_age_out_accuracy: 0.0000e+00 - val_age_out_mae: 17.0453\n",
            "Epoch 2/30\n",
            "418/418 [==============================] - 257s 615ms/step - loss: 14.2450 - gender_out_loss: 0.5376 - age_out_loss: 13.7074 - gender_out_accuracy: 0.7388 - gender_out_mae: 0.3536 - age_out_accuracy: 0.0365 - age_out_mae: 13.7074 - val_loss: 11.5192 - val_gender_out_loss: 0.4127 - val_age_out_loss: 11.1065 - val_gender_out_accuracy: 0.8256 - val_gender_out_mae: 0.2817 - val_age_out_accuracy: 0.0000e+00 - val_age_out_mae: 11.1065\n",
            "Epoch 3/30\n",
            "418/418 [==============================] - 269s 645ms/step - loss: 12.3941 - gender_out_loss: 0.4782 - age_out_loss: 11.9159 - gender_out_accuracy: 0.7732 - gender_out_mae: 0.3175 - age_out_accuracy: 0.0247 - age_out_mae: 11.9159 - val_loss: 12.1397 - val_gender_out_loss: 0.3851 - val_age_out_loss: 11.7546 - val_gender_out_accuracy: 0.8420 - val_gender_out_mae: 0.2416 - val_age_out_accuracy: 0.0000e+00 - val_age_out_mae: 11.7546\n",
            "Epoch 4/30\n",
            "418/418 [==============================] - 252s 604ms/step - loss: 11.1955 - gender_out_loss: 0.4466 - age_out_loss: 10.7489 - gender_out_accuracy: 0.7873 - gender_out_mae: 0.2936 - age_out_accuracy: 0.0178 - age_out_mae: 10.7489 - val_loss: 9.9322 - val_gender_out_loss: 0.3745 - val_age_out_loss: 9.5577 - val_gender_out_accuracy: 0.8411 - val_gender_out_mae: 0.2004 - val_age_out_accuracy: 0.0000e+00 - val_age_out_mae: 9.5577\n",
            "Epoch 5/30\n",
            " 86/418 [=====>........................] - ETA: 2:52 - loss: 10.8811 - gender_out_loss: 0.4400 - age_out_loss: 10.4411 - gender_out_accuracy: 0.7903 - gender_out_mae: 0.2890 - age_out_accuracy: 0.0153 - age_out_mae: 10.4411"
          ]
        },
        {
          "ename": "KeyboardInterrupt",
          "evalue": "",
          "output_type": "error",
          "traceback": [
            "\u001b[0;31m---------------------------------------------------------------------------\u001b[0m",
            "\u001b[0;31mKeyboardInterrupt\u001b[0m                         Traceback (most recent call last)",
            "\u001b[0;32m<ipython-input-18-b7622a4e1370>\u001b[0m in \u001b[0;36m<cell line: 1>\u001b[0;34m()\u001b[0m\n\u001b[0;32m----> 1\u001b[0;31m \u001b[0mhistory\u001b[0m \u001b[0;34m=\u001b[0m \u001b[0mmodel\u001b[0m\u001b[0;34m.\u001b[0m\u001b[0mfit\u001b[0m\u001b[0;34m(\u001b[0m\u001b[0mx\u001b[0m \u001b[0;34m=\u001b[0m \u001b[0mimage_paths\u001b[0m\u001b[0;34m,\u001b[0m \u001b[0my\u001b[0m \u001b[0;34m=\u001b[0m \u001b[0;34m[\u001b[0m\u001b[0my_gender_balanced\u001b[0m\u001b[0;34m,\u001b[0m \u001b[0my_age_balanced\u001b[0m\u001b[0;34m]\u001b[0m\u001b[0;34m,\u001b[0m \u001b[0mbatch_size\u001b[0m\u001b[0;34m=\u001b[0m\u001b[0;36m32\u001b[0m\u001b[0;34m,\u001b[0m \u001b[0mepochs\u001b[0m \u001b[0;34m=\u001b[0m \u001b[0;36m30\u001b[0m\u001b[0;34m,\u001b[0m \u001b[0mvalidation_split\u001b[0m \u001b[0;34m=\u001b[0m \u001b[0;36m0.2\u001b[0m\u001b[0;34m)\u001b[0m\u001b[0;34m\u001b[0m\u001b[0;34m\u001b[0m\u001b[0m\n\u001b[0m",
            "\u001b[0;32m/usr/local/lib/python3.10/dist-packages/keras/src/utils/traceback_utils.py\u001b[0m in \u001b[0;36merror_handler\u001b[0;34m(*args, **kwargs)\u001b[0m\n\u001b[1;32m     63\u001b[0m         \u001b[0mfiltered_tb\u001b[0m \u001b[0;34m=\u001b[0m \u001b[0;32mNone\u001b[0m\u001b[0;34m\u001b[0m\u001b[0;34m\u001b[0m\u001b[0m\n\u001b[1;32m     64\u001b[0m         \u001b[0;32mtry\u001b[0m\u001b[0;34m:\u001b[0m\u001b[0;34m\u001b[0m\u001b[0;34m\u001b[0m\u001b[0m\n\u001b[0;32m---> 65\u001b[0;31m             \u001b[0;32mreturn\u001b[0m \u001b[0mfn\u001b[0m\u001b[0;34m(\u001b[0m\u001b[0;34m*\u001b[0m\u001b[0margs\u001b[0m\u001b[0;34m,\u001b[0m \u001b[0;34m**\u001b[0m\u001b[0mkwargs\u001b[0m\u001b[0;34m)\u001b[0m\u001b[0;34m\u001b[0m\u001b[0;34m\u001b[0m\u001b[0m\n\u001b[0m\u001b[1;32m     66\u001b[0m         \u001b[0;32mexcept\u001b[0m \u001b[0mException\u001b[0m \u001b[0;32mas\u001b[0m \u001b[0me\u001b[0m\u001b[0;34m:\u001b[0m\u001b[0;34m\u001b[0m\u001b[0;34m\u001b[0m\u001b[0m\n\u001b[1;32m     67\u001b[0m             \u001b[0mfiltered_tb\u001b[0m \u001b[0;34m=\u001b[0m \u001b[0m_process_traceback_frames\u001b[0m\u001b[0;34m(\u001b[0m\u001b[0me\u001b[0m\u001b[0;34m.\u001b[0m\u001b[0m__traceback__\u001b[0m\u001b[0;34m)\u001b[0m\u001b[0;34m\u001b[0m\u001b[0;34m\u001b[0m\u001b[0m\n",
            "\u001b[0;32m/usr/local/lib/python3.10/dist-packages/keras/src/engine/training.py\u001b[0m in \u001b[0;36mfit\u001b[0;34m(self, x, y, batch_size, epochs, verbose, callbacks, validation_split, validation_data, shuffle, class_weight, sample_weight, initial_epoch, steps_per_epoch, validation_steps, validation_batch_size, validation_freq, max_queue_size, workers, use_multiprocessing)\u001b[0m\n\u001b[1;32m   1805\u001b[0m                         ):\n\u001b[1;32m   1806\u001b[0m                             \u001b[0mcallbacks\u001b[0m\u001b[0;34m.\u001b[0m\u001b[0mon_train_batch_begin\u001b[0m\u001b[0;34m(\u001b[0m\u001b[0mstep\u001b[0m\u001b[0;34m)\u001b[0m\u001b[0;34m\u001b[0m\u001b[0;34m\u001b[0m\u001b[0m\n\u001b[0;32m-> 1807\u001b[0;31m                             \u001b[0mtmp_logs\u001b[0m \u001b[0;34m=\u001b[0m \u001b[0mself\u001b[0m\u001b[0;34m.\u001b[0m\u001b[0mtrain_function\u001b[0m\u001b[0;34m(\u001b[0m\u001b[0miterator\u001b[0m\u001b[0;34m)\u001b[0m\u001b[0;34m\u001b[0m\u001b[0;34m\u001b[0m\u001b[0m\n\u001b[0m\u001b[1;32m   1808\u001b[0m                             \u001b[0;32mif\u001b[0m \u001b[0mdata_handler\u001b[0m\u001b[0;34m.\u001b[0m\u001b[0mshould_sync\u001b[0m\u001b[0;34m:\u001b[0m\u001b[0;34m\u001b[0m\u001b[0;34m\u001b[0m\u001b[0m\n\u001b[1;32m   1809\u001b[0m                                 \u001b[0mcontext\u001b[0m\u001b[0;34m.\u001b[0m\u001b[0masync_wait\u001b[0m\u001b[0;34m(\u001b[0m\u001b[0;34m)\u001b[0m\u001b[0;34m\u001b[0m\u001b[0;34m\u001b[0m\u001b[0m\n",
            "\u001b[0;32m/usr/local/lib/python3.10/dist-packages/tensorflow/python/util/traceback_utils.py\u001b[0m in \u001b[0;36merror_handler\u001b[0;34m(*args, **kwargs)\u001b[0m\n\u001b[1;32m    148\u001b[0m     \u001b[0mfiltered_tb\u001b[0m \u001b[0;34m=\u001b[0m \u001b[0;32mNone\u001b[0m\u001b[0;34m\u001b[0m\u001b[0;34m\u001b[0m\u001b[0m\n\u001b[1;32m    149\u001b[0m     \u001b[0;32mtry\u001b[0m\u001b[0;34m:\u001b[0m\u001b[0;34m\u001b[0m\u001b[0;34m\u001b[0m\u001b[0m\n\u001b[0;32m--> 150\u001b[0;31m       \u001b[0;32mreturn\u001b[0m \u001b[0mfn\u001b[0m\u001b[0;34m(\u001b[0m\u001b[0;34m*\u001b[0m\u001b[0margs\u001b[0m\u001b[0;34m,\u001b[0m \u001b[0;34m**\u001b[0m\u001b[0mkwargs\u001b[0m\u001b[0;34m)\u001b[0m\u001b[0;34m\u001b[0m\u001b[0;34m\u001b[0m\u001b[0m\n\u001b[0m\u001b[1;32m    151\u001b[0m     \u001b[0;32mexcept\u001b[0m \u001b[0mException\u001b[0m \u001b[0;32mas\u001b[0m \u001b[0me\u001b[0m\u001b[0;34m:\u001b[0m\u001b[0;34m\u001b[0m\u001b[0;34m\u001b[0m\u001b[0m\n\u001b[1;32m    152\u001b[0m       \u001b[0mfiltered_tb\u001b[0m \u001b[0;34m=\u001b[0m \u001b[0m_process_traceback_frames\u001b[0m\u001b[0;34m(\u001b[0m\u001b[0me\u001b[0m\u001b[0;34m.\u001b[0m\u001b[0m__traceback__\u001b[0m\u001b[0;34m)\u001b[0m\u001b[0;34m\u001b[0m\u001b[0;34m\u001b[0m\u001b[0m\n",
            "\u001b[0;32m/usr/local/lib/python3.10/dist-packages/tensorflow/python/eager/polymorphic_function/polymorphic_function.py\u001b[0m in \u001b[0;36m__call__\u001b[0;34m(self, *args, **kwds)\u001b[0m\n\u001b[1;32m    830\u001b[0m \u001b[0;34m\u001b[0m\u001b[0m\n\u001b[1;32m    831\u001b[0m       \u001b[0;32mwith\u001b[0m \u001b[0mOptionalXlaContext\u001b[0m\u001b[0;34m(\u001b[0m\u001b[0mself\u001b[0m\u001b[0;34m.\u001b[0m\u001b[0m_jit_compile\u001b[0m\u001b[0;34m)\u001b[0m\u001b[0;34m:\u001b[0m\u001b[0;34m\u001b[0m\u001b[0;34m\u001b[0m\u001b[0m\n\u001b[0;32m--> 832\u001b[0;31m         \u001b[0mresult\u001b[0m \u001b[0;34m=\u001b[0m \u001b[0mself\u001b[0m\u001b[0;34m.\u001b[0m\u001b[0m_call\u001b[0m\u001b[0;34m(\u001b[0m\u001b[0;34m*\u001b[0m\u001b[0margs\u001b[0m\u001b[0;34m,\u001b[0m \u001b[0;34m**\u001b[0m\u001b[0mkwds\u001b[0m\u001b[0;34m)\u001b[0m\u001b[0;34m\u001b[0m\u001b[0;34m\u001b[0m\u001b[0m\n\u001b[0m\u001b[1;32m    833\u001b[0m \u001b[0;34m\u001b[0m\u001b[0m\n\u001b[1;32m    834\u001b[0m       \u001b[0mnew_tracing_count\u001b[0m \u001b[0;34m=\u001b[0m \u001b[0mself\u001b[0m\u001b[0;34m.\u001b[0m\u001b[0mexperimental_get_tracing_count\u001b[0m\u001b[0;34m(\u001b[0m\u001b[0;34m)\u001b[0m\u001b[0;34m\u001b[0m\u001b[0;34m\u001b[0m\u001b[0m\n",
            "\u001b[0;32m/usr/local/lib/python3.10/dist-packages/tensorflow/python/eager/polymorphic_function/polymorphic_function.py\u001b[0m in \u001b[0;36m_call\u001b[0;34m(self, *args, **kwds)\u001b[0m\n\u001b[1;32m    866\u001b[0m       \u001b[0;31m# In this case we have created variables on the first call, so we run the\u001b[0m\u001b[0;34m\u001b[0m\u001b[0;34m\u001b[0m\u001b[0m\n\u001b[1;32m    867\u001b[0m       \u001b[0;31m# defunned version which is guaranteed to never create variables.\u001b[0m\u001b[0;34m\u001b[0m\u001b[0;34m\u001b[0m\u001b[0m\n\u001b[0;32m--> 868\u001b[0;31m       return tracing_compilation.call_function(\n\u001b[0m\u001b[1;32m    869\u001b[0m           \u001b[0margs\u001b[0m\u001b[0;34m,\u001b[0m \u001b[0mkwds\u001b[0m\u001b[0;34m,\u001b[0m \u001b[0mself\u001b[0m\u001b[0;34m.\u001b[0m\u001b[0m_no_variable_creation_config\u001b[0m\u001b[0;34m\u001b[0m\u001b[0;34m\u001b[0m\u001b[0m\n\u001b[1;32m    870\u001b[0m       )\n",
            "\u001b[0;32m/usr/local/lib/python3.10/dist-packages/tensorflow/python/eager/polymorphic_function/tracing_compilation.py\u001b[0m in \u001b[0;36mcall_function\u001b[0;34m(args, kwargs, tracing_options)\u001b[0m\n\u001b[1;32m    137\u001b[0m   \u001b[0mbound_args\u001b[0m \u001b[0;34m=\u001b[0m \u001b[0mfunction\u001b[0m\u001b[0;34m.\u001b[0m\u001b[0mfunction_type\u001b[0m\u001b[0;34m.\u001b[0m\u001b[0mbind\u001b[0m\u001b[0;34m(\u001b[0m\u001b[0;34m*\u001b[0m\u001b[0margs\u001b[0m\u001b[0;34m,\u001b[0m \u001b[0;34m**\u001b[0m\u001b[0mkwargs\u001b[0m\u001b[0;34m)\u001b[0m\u001b[0;34m\u001b[0m\u001b[0;34m\u001b[0m\u001b[0m\n\u001b[1;32m    138\u001b[0m   \u001b[0mflat_inputs\u001b[0m \u001b[0;34m=\u001b[0m \u001b[0mfunction\u001b[0m\u001b[0;34m.\u001b[0m\u001b[0mfunction_type\u001b[0m\u001b[0;34m.\u001b[0m\u001b[0munpack_inputs\u001b[0m\u001b[0;34m(\u001b[0m\u001b[0mbound_args\u001b[0m\u001b[0;34m)\u001b[0m\u001b[0;34m\u001b[0m\u001b[0;34m\u001b[0m\u001b[0m\n\u001b[0;32m--> 139\u001b[0;31m   return function._call_flat(  # pylint: disable=protected-access\n\u001b[0m\u001b[1;32m    140\u001b[0m       \u001b[0mflat_inputs\u001b[0m\u001b[0;34m,\u001b[0m \u001b[0mcaptured_inputs\u001b[0m\u001b[0;34m=\u001b[0m\u001b[0mfunction\u001b[0m\u001b[0;34m.\u001b[0m\u001b[0mcaptured_inputs\u001b[0m\u001b[0;34m\u001b[0m\u001b[0;34m\u001b[0m\u001b[0m\n\u001b[1;32m    141\u001b[0m   )\n",
            "\u001b[0;32m/usr/local/lib/python3.10/dist-packages/tensorflow/python/eager/polymorphic_function/concrete_function.py\u001b[0m in \u001b[0;36m_call_flat\u001b[0;34m(self, tensor_inputs, captured_inputs)\u001b[0m\n\u001b[1;32m   1321\u001b[0m         and executing_eagerly):\n\u001b[1;32m   1322\u001b[0m       \u001b[0;31m# No tape is watching; skip to running the function.\u001b[0m\u001b[0;34m\u001b[0m\u001b[0;34m\u001b[0m\u001b[0m\n\u001b[0;32m-> 1323\u001b[0;31m       \u001b[0;32mreturn\u001b[0m \u001b[0mself\u001b[0m\u001b[0;34m.\u001b[0m\u001b[0m_inference_function\u001b[0m\u001b[0;34m.\u001b[0m\u001b[0mcall_preflattened\u001b[0m\u001b[0;34m(\u001b[0m\u001b[0margs\u001b[0m\u001b[0;34m)\u001b[0m\u001b[0;34m\u001b[0m\u001b[0;34m\u001b[0m\u001b[0m\n\u001b[0m\u001b[1;32m   1324\u001b[0m     forward_backward = self._select_forward_and_backward_functions(\n\u001b[1;32m   1325\u001b[0m         \u001b[0margs\u001b[0m\u001b[0;34m,\u001b[0m\u001b[0;34m\u001b[0m\u001b[0;34m\u001b[0m\u001b[0m\n",
            "\u001b[0;32m/usr/local/lib/python3.10/dist-packages/tensorflow/python/eager/polymorphic_function/atomic_function.py\u001b[0m in \u001b[0;36mcall_preflattened\u001b[0;34m(self, args)\u001b[0m\n\u001b[1;32m    214\u001b[0m   \u001b[0;32mdef\u001b[0m \u001b[0mcall_preflattened\u001b[0m\u001b[0;34m(\u001b[0m\u001b[0mself\u001b[0m\u001b[0;34m,\u001b[0m \u001b[0margs\u001b[0m\u001b[0;34m:\u001b[0m \u001b[0mSequence\u001b[0m\u001b[0;34m[\u001b[0m\u001b[0mcore\u001b[0m\u001b[0;34m.\u001b[0m\u001b[0mTensor\u001b[0m\u001b[0;34m]\u001b[0m\u001b[0;34m)\u001b[0m \u001b[0;34m->\u001b[0m \u001b[0mAny\u001b[0m\u001b[0;34m:\u001b[0m\u001b[0;34m\u001b[0m\u001b[0;34m\u001b[0m\u001b[0m\n\u001b[1;32m    215\u001b[0m     \u001b[0;34m\"\"\"Calls with flattened tensor inputs and returns the structured output.\"\"\"\u001b[0m\u001b[0;34m\u001b[0m\u001b[0;34m\u001b[0m\u001b[0m\n\u001b[0;32m--> 216\u001b[0;31m     \u001b[0mflat_outputs\u001b[0m \u001b[0;34m=\u001b[0m \u001b[0mself\u001b[0m\u001b[0;34m.\u001b[0m\u001b[0mcall_flat\u001b[0m\u001b[0;34m(\u001b[0m\u001b[0;34m*\u001b[0m\u001b[0margs\u001b[0m\u001b[0;34m)\u001b[0m\u001b[0;34m\u001b[0m\u001b[0;34m\u001b[0m\u001b[0m\n\u001b[0m\u001b[1;32m    217\u001b[0m     \u001b[0;32mreturn\u001b[0m \u001b[0mself\u001b[0m\u001b[0;34m.\u001b[0m\u001b[0mfunction_type\u001b[0m\u001b[0;34m.\u001b[0m\u001b[0mpack_output\u001b[0m\u001b[0;34m(\u001b[0m\u001b[0mflat_outputs\u001b[0m\u001b[0;34m)\u001b[0m\u001b[0;34m\u001b[0m\u001b[0;34m\u001b[0m\u001b[0m\n\u001b[1;32m    218\u001b[0m \u001b[0;34m\u001b[0m\u001b[0m\n",
            "\u001b[0;32m/usr/local/lib/python3.10/dist-packages/tensorflow/python/eager/polymorphic_function/atomic_function.py\u001b[0m in \u001b[0;36mcall_flat\u001b[0;34m(self, *args)\u001b[0m\n\u001b[1;32m    249\u001b[0m         \u001b[0;32mwith\u001b[0m \u001b[0mrecord\u001b[0m\u001b[0;34m.\u001b[0m\u001b[0mstop_recording\u001b[0m\u001b[0;34m(\u001b[0m\u001b[0;34m)\u001b[0m\u001b[0;34m:\u001b[0m\u001b[0;34m\u001b[0m\u001b[0;34m\u001b[0m\u001b[0m\n\u001b[1;32m    250\u001b[0m           \u001b[0;32mif\u001b[0m \u001b[0mself\u001b[0m\u001b[0;34m.\u001b[0m\u001b[0m_bound_context\u001b[0m\u001b[0;34m.\u001b[0m\u001b[0mexecuting_eagerly\u001b[0m\u001b[0;34m(\u001b[0m\u001b[0;34m)\u001b[0m\u001b[0;34m:\u001b[0m\u001b[0;34m\u001b[0m\u001b[0;34m\u001b[0m\u001b[0m\n\u001b[0;32m--> 251\u001b[0;31m             outputs = self._bound_context.call_function(\n\u001b[0m\u001b[1;32m    252\u001b[0m                 \u001b[0mself\u001b[0m\u001b[0;34m.\u001b[0m\u001b[0mname\u001b[0m\u001b[0;34m,\u001b[0m\u001b[0;34m\u001b[0m\u001b[0;34m\u001b[0m\u001b[0m\n\u001b[1;32m    253\u001b[0m                 \u001b[0mlist\u001b[0m\u001b[0;34m(\u001b[0m\u001b[0margs\u001b[0m\u001b[0;34m)\u001b[0m\u001b[0;34m,\u001b[0m\u001b[0;34m\u001b[0m\u001b[0;34m\u001b[0m\u001b[0m\n",
            "\u001b[0;32m/usr/local/lib/python3.10/dist-packages/tensorflow/python/eager/context.py\u001b[0m in \u001b[0;36mcall_function\u001b[0;34m(self, name, tensor_inputs, num_outputs)\u001b[0m\n\u001b[1;32m   1484\u001b[0m     \u001b[0mcancellation_context\u001b[0m \u001b[0;34m=\u001b[0m \u001b[0mcancellation\u001b[0m\u001b[0;34m.\u001b[0m\u001b[0mcontext\u001b[0m\u001b[0;34m(\u001b[0m\u001b[0;34m)\u001b[0m\u001b[0;34m\u001b[0m\u001b[0;34m\u001b[0m\u001b[0m\n\u001b[1;32m   1485\u001b[0m     \u001b[0;32mif\u001b[0m \u001b[0mcancellation_context\u001b[0m \u001b[0;32mis\u001b[0m \u001b[0;32mNone\u001b[0m\u001b[0;34m:\u001b[0m\u001b[0;34m\u001b[0m\u001b[0;34m\u001b[0m\u001b[0m\n\u001b[0;32m-> 1486\u001b[0;31m       outputs = execute.execute(\n\u001b[0m\u001b[1;32m   1487\u001b[0m           \u001b[0mname\u001b[0m\u001b[0;34m.\u001b[0m\u001b[0mdecode\u001b[0m\u001b[0;34m(\u001b[0m\u001b[0;34m\"utf-8\"\u001b[0m\u001b[0;34m)\u001b[0m\u001b[0;34m,\u001b[0m\u001b[0;34m\u001b[0m\u001b[0;34m\u001b[0m\u001b[0m\n\u001b[1;32m   1488\u001b[0m           \u001b[0mnum_outputs\u001b[0m\u001b[0;34m=\u001b[0m\u001b[0mnum_outputs\u001b[0m\u001b[0;34m,\u001b[0m\u001b[0;34m\u001b[0m\u001b[0;34m\u001b[0m\u001b[0m\n",
            "\u001b[0;32m/usr/local/lib/python3.10/dist-packages/tensorflow/python/eager/execute.py\u001b[0m in \u001b[0;36mquick_execute\u001b[0;34m(op_name, num_outputs, inputs, attrs, ctx, name)\u001b[0m\n\u001b[1;32m     51\u001b[0m   \u001b[0;32mtry\u001b[0m\u001b[0;34m:\u001b[0m\u001b[0;34m\u001b[0m\u001b[0;34m\u001b[0m\u001b[0m\n\u001b[1;32m     52\u001b[0m     \u001b[0mctx\u001b[0m\u001b[0;34m.\u001b[0m\u001b[0mensure_initialized\u001b[0m\u001b[0;34m(\u001b[0m\u001b[0;34m)\u001b[0m\u001b[0;34m\u001b[0m\u001b[0;34m\u001b[0m\u001b[0m\n\u001b[0;32m---> 53\u001b[0;31m     tensors = pywrap_tfe.TFE_Py_Execute(ctx._handle, device_name, op_name,\n\u001b[0m\u001b[1;32m     54\u001b[0m                                         inputs, attrs, num_outputs)\n\u001b[1;32m     55\u001b[0m   \u001b[0;32mexcept\u001b[0m \u001b[0mcore\u001b[0m\u001b[0;34m.\u001b[0m\u001b[0m_NotOkStatusException\u001b[0m \u001b[0;32mas\u001b[0m \u001b[0me\u001b[0m\u001b[0;34m:\u001b[0m\u001b[0;34m\u001b[0m\u001b[0;34m\u001b[0m\u001b[0m\n",
            "\u001b[0;31mKeyboardInterrupt\u001b[0m: "
          ]
        }
      ],
      "source": [
        "history = model.fit(x = image_paths, y = [y_gender_balanced, y_age_balanced], batch_size=32, epochs = 30, validation_split = 0.2)"
      ]
    }
  ],
  "metadata": {
    "colab": {
      "provenance": []
    },
    "kernelspec": {
      "display_name": "Python 3",
      "name": "python3"
    },
    "language_info": {
      "codemirror_mode": {
        "name": "ipython",
        "version": 3
      },
      "file_extension": ".py",
      "mimetype": "text/x-python",
      "name": "python",
      "nbconvert_exporter": "python",
      "pygments_lexer": "ipython3",
      "version": "3.11.9"
    },
    "widgets": {
      "application/vnd.jupyter.widget-state+json": {
        "05c678d5ad694a83a39a45b3aac9cb04": {
          "model_module": "@jupyter-widgets/controls",
          "model_module_version": "1.5.0",
          "model_name": "HTMLModel",
          "state": {
            "_dom_classes": [],
            "_model_module": "@jupyter-widgets/controls",
            "_model_module_version": "1.5.0",
            "_model_name": "HTMLModel",
            "_view_count": null,
            "_view_module": "@jupyter-widgets/controls",
            "_view_module_version": "1.5.0",
            "_view_name": "HTMLView",
            "description": "",
            "description_tooltip": null,
            "layout": "IPY_MODEL_e33a76917cf647f4934b13548ae8c424",
            "placeholder": "​",
            "style": "IPY_MODEL_1cedc46255fa49199362e0b9defbb68e",
            "value": " 9821/9821 [00:00&lt;00:00, 59964.88it/s]"
          }
        },
        "1cedc46255fa49199362e0b9defbb68e": {
          "model_module": "@jupyter-widgets/controls",
          "model_module_version": "1.5.0",
          "model_name": "DescriptionStyleModel",
          "state": {
            "_model_module": "@jupyter-widgets/controls",
            "_model_module_version": "1.5.0",
            "_model_name": "DescriptionStyleModel",
            "_view_count": null,
            "_view_module": "@jupyter-widgets/base",
            "_view_module_version": "1.2.0",
            "_view_name": "StyleView",
            "description_width": ""
          }
        },
        "247e5be7005a4f6981d69c6ee865b948": {
          "model_module": "@jupyter-widgets/controls",
          "model_module_version": "1.5.0",
          "model_name": "HBoxModel",
          "state": {
            "_dom_classes": [],
            "_model_module": "@jupyter-widgets/controls",
            "_model_module_version": "1.5.0",
            "_model_name": "HBoxModel",
            "_view_count": null,
            "_view_module": "@jupyter-widgets/controls",
            "_view_module_version": "1.5.0",
            "_view_name": "HBoxView",
            "box_style": "",
            "children": [
              "IPY_MODEL_94833b066ba44b5fbfd9a554d3a2de9e",
              "IPY_MODEL_9af04bd9889b497799e6d0480e5e9040",
              "IPY_MODEL_05c678d5ad694a83a39a45b3aac9cb04"
            ],
            "layout": "IPY_MODEL_fdf642133c74498abf4945c511759c42"
          }
        },
        "27b8bd710d184b438f44a2b68a906d20": {
          "model_module": "@jupyter-widgets/controls",
          "model_module_version": "1.5.0",
          "model_name": "ProgressStyleModel",
          "state": {
            "_model_module": "@jupyter-widgets/controls",
            "_model_module_version": "1.5.0",
            "_model_name": "ProgressStyleModel",
            "_view_count": null,
            "_view_module": "@jupyter-widgets/base",
            "_view_module_version": "1.2.0",
            "_view_name": "StyleView",
            "bar_color": null,
            "description_width": ""
          }
        },
        "6dffa1e129a549ea878b271e3a0d4472": {
          "model_module": "@jupyter-widgets/base",
          "model_module_version": "1.2.0",
          "model_name": "LayoutModel",
          "state": {
            "_model_module": "@jupyter-widgets/base",
            "_model_module_version": "1.2.0",
            "_model_name": "LayoutModel",
            "_view_count": null,
            "_view_module": "@jupyter-widgets/base",
            "_view_module_version": "1.2.0",
            "_view_name": "LayoutView",
            "align_content": null,
            "align_items": null,
            "align_self": null,
            "border": null,
            "bottom": null,
            "display": null,
            "flex": null,
            "flex_flow": null,
            "grid_area": null,
            "grid_auto_columns": null,
            "grid_auto_flow": null,
            "grid_auto_rows": null,
            "grid_column": null,
            "grid_gap": null,
            "grid_row": null,
            "grid_template_areas": null,
            "grid_template_columns": null,
            "grid_template_rows": null,
            "height": null,
            "justify_content": null,
            "justify_items": null,
            "left": null,
            "margin": null,
            "max_height": null,
            "max_width": null,
            "min_height": null,
            "min_width": null,
            "object_fit": null,
            "object_position": null,
            "order": null,
            "overflow": null,
            "overflow_x": null,
            "overflow_y": null,
            "padding": null,
            "right": null,
            "top": null,
            "visibility": null,
            "width": null
          }
        },
        "94833b066ba44b5fbfd9a554d3a2de9e": {
          "model_module": "@jupyter-widgets/controls",
          "model_module_version": "1.5.0",
          "model_name": "HTMLModel",
          "state": {
            "_dom_classes": [],
            "_model_module": "@jupyter-widgets/controls",
            "_model_module_version": "1.5.0",
            "_model_name": "HTMLModel",
            "_view_count": null,
            "_view_module": "@jupyter-widgets/controls",
            "_view_module_version": "1.5.0",
            "_view_name": "HTMLView",
            "description": "",
            "description_tooltip": null,
            "layout": "IPY_MODEL_de27b81d2a464edc80b8e6eec8384e89",
            "placeholder": "​",
            "style": "IPY_MODEL_c116ceaae6f64200b4efdfd7021c370a",
            "value": "100%"
          }
        },
        "9af04bd9889b497799e6d0480e5e9040": {
          "model_module": "@jupyter-widgets/controls",
          "model_module_version": "1.5.0",
          "model_name": "FloatProgressModel",
          "state": {
            "_dom_classes": [],
            "_model_module": "@jupyter-widgets/controls",
            "_model_module_version": "1.5.0",
            "_model_name": "FloatProgressModel",
            "_view_count": null,
            "_view_module": "@jupyter-widgets/controls",
            "_view_module_version": "1.5.0",
            "_view_name": "ProgressView",
            "bar_style": "success",
            "description": "",
            "description_tooltip": null,
            "layout": "IPY_MODEL_6dffa1e129a549ea878b271e3a0d4472",
            "max": 9821,
            "min": 0,
            "orientation": "horizontal",
            "style": "IPY_MODEL_27b8bd710d184b438f44a2b68a906d20",
            "value": 9821
          }
        },
        "c116ceaae6f64200b4efdfd7021c370a": {
          "model_module": "@jupyter-widgets/controls",
          "model_module_version": "1.5.0",
          "model_name": "DescriptionStyleModel",
          "state": {
            "_model_module": "@jupyter-widgets/controls",
            "_model_module_version": "1.5.0",
            "_model_name": "DescriptionStyleModel",
            "_view_count": null,
            "_view_module": "@jupyter-widgets/base",
            "_view_module_version": "1.2.0",
            "_view_name": "StyleView",
            "description_width": ""
          }
        },
        "de27b81d2a464edc80b8e6eec8384e89": {
          "model_module": "@jupyter-widgets/base",
          "model_module_version": "1.2.0",
          "model_name": "LayoutModel",
          "state": {
            "_model_module": "@jupyter-widgets/base",
            "_model_module_version": "1.2.0",
            "_model_name": "LayoutModel",
            "_view_count": null,
            "_view_module": "@jupyter-widgets/base",
            "_view_module_version": "1.2.0",
            "_view_name": "LayoutView",
            "align_content": null,
            "align_items": null,
            "align_self": null,
            "border": null,
            "bottom": null,
            "display": null,
            "flex": null,
            "flex_flow": null,
            "grid_area": null,
            "grid_auto_columns": null,
            "grid_auto_flow": null,
            "grid_auto_rows": null,
            "grid_column": null,
            "grid_gap": null,
            "grid_row": null,
            "grid_template_areas": null,
            "grid_template_columns": null,
            "grid_template_rows": null,
            "height": null,
            "justify_content": null,
            "justify_items": null,
            "left": null,
            "margin": null,
            "max_height": null,
            "max_width": null,
            "min_height": null,
            "min_width": null,
            "object_fit": null,
            "object_position": null,
            "order": null,
            "overflow": null,
            "overflow_x": null,
            "overflow_y": null,
            "padding": null,
            "right": null,
            "top": null,
            "visibility": null,
            "width": null
          }
        },
        "e33a76917cf647f4934b13548ae8c424": {
          "model_module": "@jupyter-widgets/base",
          "model_module_version": "1.2.0",
          "model_name": "LayoutModel",
          "state": {
            "_model_module": "@jupyter-widgets/base",
            "_model_module_version": "1.2.0",
            "_model_name": "LayoutModel",
            "_view_count": null,
            "_view_module": "@jupyter-widgets/base",
            "_view_module_version": "1.2.0",
            "_view_name": "LayoutView",
            "align_content": null,
            "align_items": null,
            "align_self": null,
            "border": null,
            "bottom": null,
            "display": null,
            "flex": null,
            "flex_flow": null,
            "grid_area": null,
            "grid_auto_columns": null,
            "grid_auto_flow": null,
            "grid_auto_rows": null,
            "grid_column": null,
            "grid_gap": null,
            "grid_row": null,
            "grid_template_areas": null,
            "grid_template_columns": null,
            "grid_template_rows": null,
            "height": null,
            "justify_content": null,
            "justify_items": null,
            "left": null,
            "margin": null,
            "max_height": null,
            "max_width": null,
            "min_height": null,
            "min_width": null,
            "object_fit": null,
            "object_position": null,
            "order": null,
            "overflow": null,
            "overflow_x": null,
            "overflow_y": null,
            "padding": null,
            "right": null,
            "top": null,
            "visibility": null,
            "width": null
          }
        },
        "fdf642133c74498abf4945c511759c42": {
          "model_module": "@jupyter-widgets/base",
          "model_module_version": "1.2.0",
          "model_name": "LayoutModel",
          "state": {
            "_model_module": "@jupyter-widgets/base",
            "_model_module_version": "1.2.0",
            "_model_name": "LayoutModel",
            "_view_count": null,
            "_view_module": "@jupyter-widgets/base",
            "_view_module_version": "1.2.0",
            "_view_name": "LayoutView",
            "align_content": null,
            "align_items": null,
            "align_self": null,
            "border": null,
            "bottom": null,
            "display": null,
            "flex": null,
            "flex_flow": null,
            "grid_area": null,
            "grid_auto_columns": null,
            "grid_auto_flow": null,
            "grid_auto_rows": null,
            "grid_column": null,
            "grid_gap": null,
            "grid_row": null,
            "grid_template_areas": null,
            "grid_template_columns": null,
            "grid_template_rows": null,
            "height": null,
            "justify_content": null,
            "justify_items": null,
            "left": null,
            "margin": null,
            "max_height": null,
            "max_width": null,
            "min_height": null,
            "min_width": null,
            "object_fit": null,
            "object_position": null,
            "order": null,
            "overflow": null,
            "overflow_x": null,
            "overflow_y": null,
            "padding": null,
            "right": null,
            "top": null,
            "visibility": null,
            "width": null
          }
        }
      }
    }
  },
  "nbformat": 4,
  "nbformat_minor": 0
}
